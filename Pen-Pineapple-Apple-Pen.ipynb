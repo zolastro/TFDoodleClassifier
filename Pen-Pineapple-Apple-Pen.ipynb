{
 "cells": [
  {
   "cell_type": "code",
   "execution_count": 426,
   "metadata": {},
   "outputs": [],
   "source": [
    "import tensorflow as tf\n",
    "from tensorflow.examples.tutorials.mnist import input_data\n",
    "import numpy as np\n",
    "import random\n",
    "from IPython.display import clear_output"
   ]
  },
  {
   "cell_type": "code",
   "execution_count": 427,
   "metadata": {},
   "outputs": [],
   "source": [
    "pineapples_images = np.load('pineapple.npy')\n",
    "pineapples_labels = np.zeros((pineapples_images.shape[0], 2))\n",
    "pineapples_labels[:, 0] = 1;\n",
    "pens_images = np.load('pen.npy')\n",
    "pens_labels = np.zeros((pens_images.shape[0], 2))\n",
    "pens_labels[:, 1] = 1"
   ]
  },
  {
   "cell_type": "code",
   "execution_count": 428,
   "metadata": {},
   "outputs": [
    {
     "name": "stdout",
     "output_type": "stream",
     "text": [
      "('pineapples', (125071, 784), (125071, 2))\n",
      "('pens', (122001, 784), (122001, 2))\n"
     ]
    }
   ],
   "source": [
    "print('pineapples', pineapples_images.shape, pineapples_labels.shape)\n",
    "print('pens', pens_images.shape, pens_labels.shape)"
   ]
  },
  {
   "cell_type": "code",
   "execution_count": 429,
   "metadata": {},
   "outputs": [],
   "source": [
    "TRAIN_SIZE = 100000\n",
    "train_dataset = np.concatenate((pineapples_images[0:TRAIN_SIZE], pens_images[0:TRAIN_SIZE]))\n",
    "train_labels = np.concatenate((pineapples_labels[0:TRAIN_SIZE], pens_labels[0:TRAIN_SIZE]))\n",
    "\n",
    "TEST_SIZE = 20000\n",
    "offset = TRAIN_SIZE\n",
    "test_dataset = np.concatenate((pineapples_images[offset:offset + TEST_SIZE], pens_images[offset:offset + TEST_SIZE]))\n",
    "test_labels = np.concatenate((pineapples_labels[offset:offset + TEST_SIZE], pens_labels[offset:offset + TEST_SIZE]))\n",
    "\n",
    "\n",
    "VALIDATION_SIZE = 10000\n",
    "offset = offset + TEST_SIZE\n",
    "validation_dataset = np.concatenate((pineapples_images[offset:offset + VALIDATION_SIZE], pens_images[offset:offset + VALIDATION_SIZE]))\n",
    "validation_labels = np.concatenate((pineapples_labels[offset:offset + VALIDATION_SIZE], pens_labels[offset:offset + VALIDATION_SIZE]))\n"
   ]
  },
  {
   "cell_type": "code",
   "execution_count": 430,
   "metadata": {},
   "outputs": [
    {
     "name": "stdout",
     "output_type": "stream",
     "text": [
      "('Training set', (200000, 784), (200000, 2))\n"
     ]
    }
   ],
   "source": [
    "print('Training set', train_dataset.shape, train_labels.shape)"
   ]
  },
  {
   "cell_type": "code",
   "execution_count": 431,
   "metadata": {},
   "outputs": [
    {
     "name": "stdout",
     "output_type": "stream",
     "text": [
      "('Test set', (40000, 784), (40000, 2))\n"
     ]
    }
   ],
   "source": [
    "print('Test set', test_dataset.shape, test_labels.shape)"
   ]
  },
  {
   "cell_type": "code",
   "execution_count": 432,
   "metadata": {},
   "outputs": [
    {
     "name": "stdout",
     "output_type": "stream",
     "text": [
      "('Validation set', (7072, 784), (7072, 2))\n"
     ]
    }
   ],
   "source": [
    "print('Validation set', validation_dataset.shape, validation_labels.shape)"
   ]
  },
  {
   "cell_type": "code",
   "execution_count": 433,
   "metadata": {},
   "outputs": [],
   "source": [
    "import matplotlib.pyplot as pl\n",
    "%matplotlib inline"
   ]
  },
  {
   "cell_type": "code",
   "execution_count": 434,
   "metadata": {},
   "outputs": [],
   "source": [
    "def shuffle_images_and_labels(a, b):\n",
    "    assert len(a) == len(b)\n",
    "    p = np.random.permutation(len(a))\n",
    "    return a[p], b[p]"
   ]
  },
  {
   "cell_type": "code",
   "execution_count": 442,
   "metadata": {},
   "outputs": [
    {
     "name": "stdout",
     "output_type": "stream",
     "text": [
      "pineapple\n"
     ]
    },
    {
     "data": {
      "image/png": "[encoded data removed]",
      "text/plain": [
       "<matplotlib.figure.Figure at 0x7f7dd0319e50>"
      ]
     },
     "metadata": {},
     "output_type": "display_data"
    }
   ],
   "source": [
    "train_dataset, train_labels = shuffle_images_and_labels(train_dataset, train_labels)\n",
    "test_dataset, test_labels = shuffle_images_and_labels(test_dataset, test_labels)\n",
    "validation_dataset, validation_labels = shuffle_images_and_labels(validation_dataset, validation_labels)\n",
    "\n",
    "sample = test_dataset[1]\n",
    "sample = sample.reshape(28,28)\n",
    "pl.imshow(sample, cmap=\"gray_r\")\n",
    "print(\"pen\" if (test_labels[1, 0] == 0) else \"pineapple\")"
   ]
  },
  {
   "cell_type": "code",
   "execution_count": 436,
   "metadata": {},
   "outputs": [],
   "source": [
    "graph = tf.Graph()\n",
    "\n",
    "with graph.as_default():\n",
    "    tf_train_dataset = tf.placeholder(tf.float32, shape=[128, 28*28])\n",
    "    tf_train_labels = tf.placeholder(tf.int64, shape=[128, 2])\n",
    "    \n",
    "    weights = tf.Variable(tf.random_uniform([784, 2]))\n",
    "    biases = tf.Variable(tf.random_uniform([2]))\n",
    "    \n",
    "    logits = tf.matmul(tf_train_dataset, weights) + biases\n",
    "    loss = tf.reduce_mean(tf.nn.softmax_cross_entropy_with_logits(logits=logits, labels=tf_train_labels))\n",
    "    \n",
    "    optimizer = tf.train.GradientDescentOptimizer(0.5).minimize(loss)\n",
    "\n",
    "    tf_test_dataset = tf.cast(tf.constant(test_dataset), tf.float32)\n",
    "    tf_validation_dataset = tf.cast(tf.constant(validation_dataset), tf.float32)\n",
    "    \n",
    "    train_prediction = tf.nn.softmax((tf.matmul(tf_train_dataset, weights) + biases))\n",
    "    test_prediction = tf.nn.softmax((tf.matmul(tf_test_dataset, weights) + biases))\n",
    "    validation_prediction = tf.nn.softmax((tf.matmul(tf_validation_dataset, weights) + biases))"
   ]
  },
  {
   "cell_type": "code",
   "execution_count": 437,
   "metadata": {},
   "outputs": [],
   "source": [
    "def accuracy(predictions, labels):\n",
    "    return (100.0 * np.sum(np.equal(np.argmax(predictions, 1), np.argmax(labels, 1))) / predictions.shape[0])"
   ]
  },
  {
   "cell_type": "code",
   "execution_count": 440,
   "metadata": {},
   "outputs": [
    {
     "name": "stdout",
     "output_type": "stream",
     "text": [
      "Minibatch loss at step 10000: 20669.662109\n",
      "Minibatch accuracy: 89.8%\n",
      "Validation error 92.8%\n",
      "Successfully ended iteration 10000\n",
      "Test accuracy: 93.5%\n"
     ]
    }
   ],
   "source": [
    "NUM_STEPS = 10001\n",
    "with tf.Session(graph=graph) as session:\n",
    "    tf.global_variables_initializer().run()\n",
    "    for step in range(NUM_STEPS):\n",
    "        offset = (step * 128) % (train_labels.shape[0] -128)\n",
    "        batch_data = train_dataset[offset:(offset + 128), :]\n",
    "        batch_labels = train_labels[offset:(offset + 128)]\n",
    "        feed_dict = { tf_train_dataset: batch_data, tf_train_labels: batch_labels }\n",
    "       \n",
    "        _, l, predictions = session.run([optimizer, loss, train_prediction], feed_dict=feed_dict)\n",
    "        \n",
    "        if(step % 500 == 0):\n",
    "            clear_output(wait=True)\n",
    "            print(\"Minibatch loss at step %d: %f\" % (step, l))\n",
    "            print(\"Minibatch accuracy: %.1f%%\" % accuracy(predictions, batch_labels))\n",
    "            print(\"Validation error %.1f%%\" % accuracy(validation_prediction.eval(), validation_labels))\n",
    "    print(\"Successfully ended iteration %d\" % step)\n",
    "    print(\"Test accuracy: %.1f%%\" % accuracy(test_prediction.eval(), test_labels))"
   ]
  }
 ],
 "metadata": {
  "kernelspec": {
   "display_name": "Python 2",
   "language": "python",
   "name": "python2"
  },
  "language_info": {
   "codemirror_mode": {
    "name": "ipython",
    "version": 2
   },
   "file_extension": ".py",
   "mimetype": "text/x-python",
   "name": "python",
   "nbconvert_exporter": "python",
   "pygments_lexer": "ipython2",
   "version": "2.7.12"
  }
 },
 "nbformat": 4,
 "nbformat_minor": 2
}
