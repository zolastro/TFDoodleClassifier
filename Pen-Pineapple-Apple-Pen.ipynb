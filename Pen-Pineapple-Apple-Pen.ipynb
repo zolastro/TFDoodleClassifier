{
 "cells": [
  {
   "cell_type": "markdown",
   "metadata": {},
   "source": [
    "# Doodle Classifier\n",
    "This is a single layer Neural Network made with [TensorFlow](https://github.com/tensorflow/tensorflow) that classifies doodles into either pens or pineapples."
   ]
  },
  {
   "cell_type": "code",
   "execution_count": 22,
   "metadata": {},
   "outputs": [],
   "source": [
    "import tensorflow as tf\n",
    "from tensorflow.examples.tutorials.mnist import input_data\n",
    "import numpy as np\n",
    "import random\n",
    "from IPython.display import clear_output\n",
    "import matplotlib.pyplot as pl\n",
    "%matplotlib inline"
   ]
  },
  {
   "cell_type": "markdown",
   "metadata": {},
   "source": [
    "## Getting our data\n",
    "Along with this repository are two files that contains all the doodles that we are going to use. However, we also must create the labels that our Neural Network should correctly guess. Those labels are going to be an array with two elements. If the first element is 1, then we say it's a pineapple, otherwise, if the second element is 1, it would be a pen."
   ]
  },
  {
   "cell_type": "code",
   "execution_count": 23,
   "metadata": {},
   "outputs": [],
   "source": [
    "#Load the images\n",
    "pineapples_images = np.load('pineapple.npy')\n",
    "pens_images = np.load('pen.npy')\n",
    "\n",
    "#Create our pineapple and pen labels\n",
    "pineapples_labels = np.zeros((pineapples_images.shape[0], 2))\n",
    "pineapples_labels[:, 0] = 1;\n",
    "pens_labels = np.zeros((pens_images.shape[0], 2))\n",
    "pens_labels[:, 1] = 1"
   ]
  },
  {
   "cell_type": "markdown",
   "metadata": {},
   "source": [
    "It's a good practise to take a look to our data. In this case, we can see that our images are indeed a 728 array. Each value represents a pixel of the doodle image."
   ]
  },
  {
   "cell_type": "code",
   "execution_count": 24,
   "metadata": {},
   "outputs": [
    {
     "name": "stdout",
     "output_type": "stream",
     "text": [
      "('Pineapples', (125071, 784), (125071, 2))\n",
      "('Pens', (122001, 784), (122001, 2))\n"
     ]
    }
   ],
   "source": [
    "print('Pineapples', pineapples_images.shape, pineapples_labels.shape)\n",
    "print('Pens', pens_images.shape, pens_labels.shape)"
   ]
  },
  {
   "cell_type": "markdown",
   "metadata": {},
   "source": [
    "## Creating our datasets\n",
    "What we are going to do now is to create three datasets each one with one purpose: **training**, **testing** and **validation**. These datasets contains both the pens and pineapples doodles, that's why we concatenate them."
   ]
  },
  {
   "cell_type": "code",
   "execution_count": 25,
   "metadata": {},
   "outputs": [],
   "source": [
    "TRAIN_SIZE = 80000\n",
    "train_dataset = np.concatenate((pineapples_images[0:TRAIN_SIZE], pens_images[0:TRAIN_SIZE]))\n",
    "train_labels = np.concatenate((pineapples_labels[0:TRAIN_SIZE], pens_labels[0:TRAIN_SIZE]))\n",
    "\n",
    "TEST_SIZE = 20000\n",
    "offset = TRAIN_SIZE\n",
    "test_dataset = np.concatenate((pineapples_images[offset:offset + TEST_SIZE], pens_images[offset:offset + TEST_SIZE]))\n",
    "test_labels = np.concatenate((pineapples_labels[offset:offset + TEST_SIZE], pens_labels[offset:offset + TEST_SIZE]))\n",
    "\n",
    "VALIDATION_SIZE = 10000\n",
    "offset = offset + TEST_SIZE\n",
    "validation_dataset = np.concatenate((pineapples_images[offset:offset + VALIDATION_SIZE], pens_images[offset:offset + VALIDATION_SIZE]))\n",
    "validation_labels = np.concatenate((pineapples_labels[offset:offset + VALIDATION_SIZE], pens_labels[offset:offset + VALIDATION_SIZE]))"
   ]
  },
  {
   "cell_type": "markdown",
   "metadata": {},
   "source": [
    "Again, let's see how our datasets look like:"
   ]
  },
  {
   "cell_type": "code",
   "execution_count": 26,
   "metadata": {},
   "outputs": [
    {
     "name": "stdout",
     "output_type": "stream",
     "text": [
      "('Training set', (160000, 784), (160000, 2))\n",
      "('Test set', (40000, 784), (40000, 2))\n",
      "('Validation set', (20000, 784), (20000, 2))\n"
     ]
    }
   ],
   "source": [
    "print('Training set', train_dataset.shape, train_labels.shape)\n",
    "print('Test set', test_dataset.shape, test_labels.shape)\n",
    "print('Validation set', validation_dataset.shape, validation_labels.shape)"
   ]
  },
  {
   "cell_type": "markdown",
   "metadata": {},
   "source": [
    "So far so good, but now we have to face a little problem. As our datasets were concatenated, now all pineapples appears first, and that's no good as we want to get batches of both types of doodles at the same! But worry not, we can easily shuffle both arrays with this simple function:"
   ]
  },
  {
   "cell_type": "code",
   "execution_count": 27,
   "metadata": {},
   "outputs": [],
   "source": [
    "def shuffle_images_and_labels(a, b):\n",
    "    assert len(a) == len(b)\n",
    "    p = np.random.permutation(len(a))\n",
    "    return a[p], b[p]"
   ]
  },
  {
   "cell_type": "markdown",
   "metadata": {},
   "source": [
    "Great! Now you can shuffle our datasets, you can run this function as many times as you want and see how it's working."
   ]
  },
  {
   "cell_type": "code",
   "execution_count": 202,
   "metadata": {},
   "outputs": [
    {
     "name": "stdout",
     "output_type": "stream",
     "text": [
      "pineapple\n"
     ]
    },
    {
     "data": {
      "image/png": "[encoded data removed]",
      "text/plain": [
       "<matplotlib.figure.Figure at 0x7f890febf790>"
      ]
     },
     "metadata": {},
     "output_type": "display_data"
    }
   ],
   "source": [
    "train_dataset, train_labels = shuffle_images_and_labels(train_dataset, train_labels)\n",
    "test_dataset, test_labels = shuffle_images_and_labels(test_dataset, test_labels)\n",
    "validation_dataset, validation_labels = shuffle_images_and_labels(validation_dataset, validation_labels)\n",
    "\n",
    "sample = test_dataset[1]\n",
    "sample = sample.reshape(28,28)\n",
    "pl.imshow(sample, cmap=\"gray_r\")\n",
    "print(\"Pen\" if (test_labels[1, 0] == 0) else \"Pineapple\")"
   ]
  },
  {
   "cell_type": "markdown",
   "metadata": {},
   "source": [
    "## Our Neural Network!\n",
    "Okey, let's do it. So we have a 784 pixels doodle. And also we have 160000 doodles to train our network. So... we could feed one by one to our NN. But that would be too slow. Feeding all of them at the same time would be quite overwhelming and would not let room for optimization, so the best approach is to define a batch size that will be the number of doodles that we are going to feed our Neural Network"
   ]
  },
  {
   "cell_type": "code",
   "execution_count": 210,
   "metadata": {},
   "outputs": [],
   "source": [
    "BATCH_SIZE = 128"
   ]
  },
  {
   "cell_type": "markdown",
   "metadata": {},
   "source": [
    "Great, now we know how to give all our data to our network, but we must create it first! To do this, we are going to define several things: how many **inputs** are we going to get each iteration, how many **outputs** will be predicted, the number of **weights and biases** that will change during the training fase, the **loss and optimizer** functions, how our NN will predict its output... This block of code does all of those things in our TensorFlow object graph, that would be our Neural Network. "
   ]
  },
  {
   "cell_type": "code",
   "execution_count": 213,
   "metadata": {},
   "outputs": [],
   "source": [
    "graph = tf.Graph()\n",
    "\n",
    "with graph.as_default():\n",
    "    tf_train_dataset = tf.placeholder(tf.float32, shape=[BATCH_SIZE, 28*28])\n",
    "    tf_train_labels = tf.placeholder(tf.int64, shape=[BATCH_SIZE, 2])\n",
    "    \n",
    "    weights = tf.Variable(tf.random_uniform([784, 2]))\n",
    "    biases = tf.Variable(tf.random_uniform([2]))\n",
    "    \n",
    "    logits = tf.matmul(tf_train_dataset, weights) + biases\n",
    "    loss = tf.reduce_mean(tf.nn.softmax_cross_entropy_with_logits_v2(logits=logits, labels=tf_train_labels))\n",
    "    \n",
    "    optimizer = tf.train.GradientDescentOptimizer(0.5).minimize(loss)\n",
    "\n",
    "    tf_test_dataset = tf.cast(tf.constant(test_dataset), tf.float32)\n",
    "    tf_validation_dataset = tf.cast(tf.constant(validation_dataset), tf.float32)\n",
    "    \n",
    "    train_prediction = tf.nn.softmax((tf.matmul(tf_train_dataset, weights) + biases))\n",
    "    test_prediction = tf.nn.softmax((tf.matmul(tf_test_dataset, weights) + biases))\n",
    "    validation_prediction = tf.nn.softmax((tf.matmul(tf_validation_dataset, weights) + biases))"
   ]
  },
  {
   "cell_type": "markdown",
   "metadata": {},
   "source": [
    "## Place your bets\n",
    "Now let's train our Neural Network. It knows what to do as we already defined its optimization and loss function, but in order to see if it is performing correctly, we are going to create an accuracy function that tells us how many correct predictions our NN does."
   ]
  },
  {
   "cell_type": "code",
   "execution_count": 1,
   "metadata": {},
   "outputs": [],
   "source": [
    "def accuracy(predictions, labels):\n",
    "    return (100.0 * np.sum(np.equal(np.argmax(predictions, 1), np.argmax(labels, 1))) / predictions.shape[0])"
   ]
  },
  {
   "cell_type": "markdown",
   "metadata": {},
   "source": [
    "Okey, now everything it's ready. We are going to train our NN. To do this, we are going to do 10001 iterations, each one will take a batch of 128 doodles and our NN will try to approach a function that correctly predicts the doodle category. In order to visualize its progress, we'll print it's accuracy every 500 steps."
   ]
  },
  {
   "cell_type": "code",
   "execution_count": 440,
   "metadata": {},
   "outputs": [
    {
     "name": "stdout",
     "output_type": "stream",
     "text": [
      "Minibatch loss at step 10000: 20669.662109\n",
      "Minibatch accuracy: 89.8%\n",
      "Validation error 92.8%\n",
      "Successfully ended iteration 10000\n",
      "Test accuracy: 93.5%\n"
     ]
    }
   ],
   "source": [
    "NUM_STEPS = 10001\n",
    "with tf.Session(graph=graph) as session:\n",
    "    tf.global_variables_initializer().run()\n",
    "    for step in range(NUM_STEPS):\n",
    "        offset = (step * 128) % (train_labels.shape[0] - BATCH_SIZE)\n",
    "        batch_data = train_dataset[offset:(offset + BATCH_SIZE), :]\n",
    "        batch_labels = train_labels[offset:(offset + BATCH_SIZE)]\n",
    "        feed_dict = { tf_train_dataset: batch_data, tf_train_labels: batch_labels }\n",
    "       \n",
    "        _, l, predictions = session.run([optimizer, loss, train_prediction], feed_dict=feed_dict)\n",
    "        \n",
    "        if(step % 500 == 0):\n",
    "            clear_output(wait=True)\n",
    "            print(\"Minibatch loss at step %d: %f\" % (step, l))\n",
    "            print(\"Minibatch accuracy: %.1f%%\" % accuracy(predictions, batch_labels))\n",
    "            print(\"Validation error %.1f%%\" % accuracy(validation_prediction.eval(), validation_labels))\n",
    "    print(\"Successfully ended iteration %d\" % step)\n",
    "    print(\"Test accuracy: %.1f%%\" % accuracy(test_prediction.eval(), test_labels))"
   ]
  }
 ],
 "metadata": {
  "kernelspec": {
   "display_name": "Python 2",
   "language": "python",
   "name": "python2"
  },
  "language_info": {
   "codemirror_mode": {
    "name": "ipython",
    "version": 2
   },
   "file_extension": ".py",
   "mimetype": "text/x-python",
   "name": "python",
   "nbconvert_exporter": "python",
   "pygments_lexer": "ipython2",
   "version": "2.7.12"
  }
 },
 "nbformat": 4,
 "nbformat_minor": 2
}
