{
 "cells": [
  {
   "cell_type": "code",
   "execution_count": 40,
   "metadata": {},
   "outputs": [],
   "source": [
    "import tensorflow as tf\n",
    "from tensorflow.examples.tutorials.mnist import input_data"
   ]
  },
  {
   "cell_type": "code",
   "execution_count": 41,
   "metadata": {},
   "outputs": [
    {
     "name": "stdout",
     "output_type": "stream",
     "text": [
      "Extracting MNIST_data/train-images-idx3-ubyte.gz\n",
      "Extracting MNIST_data/train-labels-idx1-ubyte.gz\n",
      "Extracting MNIST_data/t10k-images-idx3-ubyte.gz\n",
      "Extracting MNIST_data/t10k-labels-idx1-ubyte.gz\n"
     ]
    }
   ],
   "source": [
    "mnist = input_data.read_data_sets('MNIST_data', one_hot=True)"
   ]
  },
  {
   "cell_type": "code",
   "execution_count": 42,
   "metadata": {},
   "outputs": [],
   "source": [
    "train_dataset = mnist.train.images\n",
    "train_labels = mnist.train.labels\n",
    "test_dataset = mnist.test.images\n",
    "test_labels = mnist.test.labels\n",
    "validation_dataset = mnist.validation.images\n",
    "validation_labels = mnist.validation.labels"
   ]
  },
  {
   "cell_type": "code",
   "execution_count": 43,
   "metadata": {},
   "outputs": [
    {
     "name": "stdout",
     "output_type": "stream",
     "text": [
      "('Training set', (55000, 784), (55000, 10))\n"
     ]
    }
   ],
   "source": [
    "print('Training set', train_dataset.shape, train_labels.shape)"
   ]
  },
  {
   "cell_type": "code",
   "execution_count": 44,
   "metadata": {},
   "outputs": [
    {
     "name": "stdout",
     "output_type": "stream",
     "text": [
      "('Training set', (10000, 784), (10000, 10))\n"
     ]
    }
   ],
   "source": [
    "print('Training set', test_dataset.shape, test_labels.shape)"
   ]
  },
  {
   "cell_type": "code",
   "execution_count": 45,
   "metadata": {},
   "outputs": [
    {
     "name": "stdout",
     "output_type": "stream",
     "text": [
      "('Training set', (5000, 784), (5000, 10))\n"
     ]
    }
   ],
   "source": [
    "print('Training set', validation_dataset.shape, validation_labels.shape)"
   ]
  },
  {
   "cell_type": "code",
   "execution_count": 46,
   "metadata": {},
   "outputs": [],
   "source": [
    "import matplotlib.pyplot as pl\n",
    "%matplotlib inline"
   ]
  },
  {
   "cell_type": "code",
   "execution_count": 47,
   "metadata": {},
   "outputs": [
    {
     "data": {
      "text/plain": [
       "<matplotlib.image.AxesImage at 0x7f7dd3e35650>"
      ]
     },
     "execution_count": 47,
     "metadata": {},
     "output_type": "execute_result"
    },
    {
     "data": {
      "image/png": "[encoded data removed]",
      "text/plain": [
       "<matplotlib.figure.Figure at 0x7f7dd3ee6e50>"
      ]
     },
     "metadata": {},
     "output_type": "display_data"
    }
   ],
   "source": [
    "sample = train_dataset[28]\n",
    "sample = sample.reshape(28,28)\n",
    "pl.imshow(sample, cmap=\"gray\")"
   ]
  },
  {
   "cell_type": "code",
   "execution_count": 57,
   "metadata": {},
   "outputs": [],
   "source": [
    "graph = tf.Graph()\n",
    "\n",
    "with graph.as_default():\n",
    "    tf_train_dataset = tf.placeholder(tf.float32, shape=[128, 28*28])\n",
    "    tf_train_labels = tf.placeholder(tf.int64, shape=[128, 10])\n",
    "    \n",
    "    weights = tf.Variable(tf.zeros([784, 10]))\n",
    "    biases = tf.Variable(tf.zeros([10]))\n",
    "    \n",
    "    logits = tf.matmul(tf_train_dataset, weights) + biases\n",
    "    loss = tf.reduce_mean(tf.nn.softmax_cross_entropy_with_logits(logits=logits, labels=tf_train_labels))\n",
    "    \n",
    "    optimizer = tf.train.GradientDescentOptimizer(0.5).minimize(loss)\n",
    "\n",
    "    tf_test_dataset = tf.constant(test_dataset)\n",
    "    tf_validation_dataset = tf.constant(validation_dataset)\n",
    "    \n",
    "    train_prediction = tf.nn.softmax((tf.matmul(tf_train_dataset, weights) + biases))\n",
    "    test_prediction = tf.nn.softmax((tf.matmul(tf_test_dataset, weights) + biases))\n",
    "    validation_prediction = tf.nn.softmax((tf.matmul(tf_validation_dataset, weights) + biases))"
   ]
  },
  {
   "cell_type": "code",
   "execution_count": 58,
   "metadata": {},
   "outputs": [],
   "source": [
    "import numpy as np\n",
    "def accuracy(predictions, labels):\n",
    "    return (100.0 * np.sum(np.equal(np.argmax(predictions, 1), np.argmax(labels, 1))) / predictions.shape[0])"
   ]
  },
  {
   "cell_type": "code",
   "execution_count": 61,
   "metadata": {},
   "outputs": [
    {
     "name": "stdout",
     "output_type": "stream",
     "text": [
      "Minibatch loss at step 0: 2.302585\n",
      "Minibatch accuracy: 11.7%\n",
      "Validation error 43.7%\n",
      "Minibatch loss at step 500: 0.372234\n",
      "Minibatch accuracy: 86.7%\n",
      "Validation error 91.7%\n",
      "Minibatch loss at step 1000: 0.173291\n",
      "Minibatch accuracy: 96.1%\n",
      "Validation error 92.0%\n",
      "Minibatch loss at step 1500: 0.389370\n",
      "Minibatch accuracy: 85.2%\n",
      "Validation error 91.3%\n",
      "Minibatch loss at step 2000: 0.295628\n",
      "Minibatch accuracy: 90.6%\n",
      "Validation error 92.3%\n",
      "Minibatch loss at step 2500: 0.229909\n",
      "Minibatch accuracy: 94.5%\n",
      "Validation error 92.3%\n",
      "Test accuracy: 90.7%\n"
     ]
    }
   ],
   "source": [
    "NUM_STEPS = 3000\n",
    "with tf.Session(graph=graph) as session:\n",
    "    tf.global_variables_initializer().run()\n",
    "    for step in range(NUM_STEPS):\n",
    "        offset = (step * 128) % (train_labels.shape[0] -128)\n",
    "        batch_data = train_dataset[offset:(offset +128), :]\n",
    "        batch_labels = train_labels[offset:(offset +128)]\n",
    "        feed_dict = { tf_train_dataset: batch_data, tf_train_labels: batch_labels }\n",
    "       \n",
    "        _, l, predictions = session.run([optimizer, loss, train_prediction], feed_dict=feed_dict)\n",
    "        \n",
    "        if(step % 500 == 0):\n",
    "            print(\"Minibatch loss at step %d: %f\" % (step, l))\n",
    "            print(\"Minibatch accuracy: %.1f%%\" % accuracy(predictions, batch_labels))\n",
    "            print(\"Validation error %.1f%%\" % accuracy(validation_prediction.eval(), validation_labels))\n",
    "    \n",
    "    print(\"Test accuracy: %.1f%%\" % accuracy(test_prediction.eval(), test_labels))"
   ]
  },
  {
   "cell_type": "code",
   "execution_count": null,
   "metadata": {},
   "outputs": [],
   "source": []
  }
 ],
 "metadata": {
  "kernelspec": {
   "display_name": "Python 2",
   "language": "python",
   "name": "python2"
  },
  "language_info": {
   "codemirror_mode": {
    "name": "ipython",
    "version": 2
   },
   "file_extension": ".py",
   "mimetype": "text/x-python",
   "name": "python",
   "nbconvert_exporter": "python",
   "pygments_lexer": "ipython2",
   "version": "2.7.12"
  }
 },
 "nbformat": 4,
 "nbformat_minor": 2
}
